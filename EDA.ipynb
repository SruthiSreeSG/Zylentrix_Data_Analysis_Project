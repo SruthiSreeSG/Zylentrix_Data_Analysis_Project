{
  "nbformat": 4,
  "nbformat_minor": 0,
  "metadata": {
    "colab": {
      "provenance": []
    },
    "kernelspec": {
      "name": "python3",
      "display_name": "Python 3"
    },
    "language_info": {
      "name": "python"
    }
  },
  "cells": [
    {
      "cell_type": "code",
      "execution_count": 1,
      "metadata": {
        "id": "J00fJAhmtGXR"
      },
      "outputs": [],
      "source": [
        "import pandas as pd\n"
      ]
    },
    {
      "cell_type": "code",
      "source": [
        "students_data = pd.read_csv('cleaned_students_dataset.csv')\n",
        "course_activity_data = pd.read_csv('cleaned_course_activity.csv')\n",
        "feedback_data = pd.read_csv('cleaned_feedback.csv')"
      ],
      "metadata": {
        "id": "QIXUWZ_Bv6ve"
      },
      "execution_count": 4,
      "outputs": []
    },
    {
      "cell_type": "code",
      "source": [
        "print(\"Students Dataset Info:\")\n",
        "print(students_data.info())\n",
        "print(\"\\nStudents Dataset Description:\")\n",
        "print(students_data.describe())"
      ],
      "metadata": {
        "colab": {
          "base_uri": "https://localhost:8080/"
        },
        "id": "AVJtTOIbwBGS",
        "outputId": "9cc1f033-eb84-4920-c96b-e8b018acf5ca"
      },
      "execution_count": 5,
      "outputs": [
        {
          "output_type": "stream",
          "name": "stdout",
          "text": [
            "Students Dataset Info:\n",
            "<class 'pandas.core.frame.DataFrame'>\n",
            "RangeIndex: 100 entries, 0 to 99\n",
            "Data columns (total 6 columns):\n",
            " #   Column          Non-Null Count  Dtype \n",
            "---  ------          --------------  ----- \n",
            " 0   Student_ID      100 non-null    object\n",
            " 1   Name            100 non-null    object\n",
            " 2   Age             100 non-null    int64 \n",
            " 3   Gender          100 non-null    object\n",
            " 4   Location        100 non-null    object\n",
            " 5   Enrolment_Date  100 non-null    object\n",
            "dtypes: int64(1), object(5)\n",
            "memory usage: 4.8+ KB\n",
            "None\n",
            "\n",
            "Students Dataset Description:\n",
            "              Age\n",
            "count  100.000000\n",
            "mean    25.480000\n",
            "std      4.835642\n",
            "min     18.000000\n",
            "25%     21.000000\n",
            "50%     25.000000\n",
            "75%     29.000000\n",
            "max     34.000000\n"
          ]
        }
      ]
    },
    {
      "cell_type": "code",
      "source": [
        "# Calculate overall average completion rate\n",
        "average_completion_rate = course_activity_data['Completion_Percentage'].mean()\n",
        "print(f\"Overall Average Completion Rate: {average_completion_rate:.2f}%\")"
      ],
      "metadata": {
        "colab": {
          "base_uri": "https://localhost:8080/"
        },
        "id": "i-GVejDkwQeh",
        "outputId": "7ee2db1e-52f1-4702-a239-2f943a8bb5d5"
      },
      "execution_count": 10,
      "outputs": [
        {
          "output_type": "stream",
          "name": "stdout",
          "text": [
            "Overall Average Completion Rate: 54.78%\n"
          ]
        }
      ]
    },
    {
      "cell_type": "code",
      "source": [
        "# Identify the course with the highest and lowest average engagement time\n",
        "average_engagement_time = course_activity_data.groupby('Course_ID')['Time_Spent_Minutes'].mean()\n",
        "\n",
        "highest_engagement_course = average_engagement_time.idxmax()\n",
        "lowest_engagement_course = average_engagement_time.idxmin()\n",
        "highest_engagement_time = average_engagement_time.max()\n",
        "lowest_engagement_time = average_engagement_time.min()\n",
        "\n",
        "print(f\"Course with Highest Engagement: {highest_engagement_course} ({highest_engagement_time:.2f} minutes)\")\n",
        "print(f\"Course with Lowest Engagement: {lowest_engagement_course} ({lowest_engagement_time:.2f} minutes)\")"
      ],
      "metadata": {
        "colab": {
          "base_uri": "https://localhost:8080/"
        },
        "id": "fMDr6tnSxN3z",
        "outputId": "abd6a186-cf30-4d0f-a3f3-98406f31bee4"
      },
      "execution_count": 11,
      "outputs": [
        {
          "output_type": "stream",
          "name": "stdout",
          "text": [
            "Course with Highest Engagement: DM101 (102.43 minutes)\n",
            "Course with Lowest Engagement: PY202 (93.90 minutes)\n"
          ]
        }
      ]
    },
    {
      "cell_type": "code",
      "source": [
        "# Calculate average engagement time by age group\n",
        "bins = [0, 18, 25, 35, 45, 55, 65, 100]\n",
        "labels = ['<18', '18-25', '26-35', '36-45', '46-55', '56-65', '65+']\n",
        "students_data['Age_Group'] = pd.cut(students_data['Age'], bins=bins, labels=labels)\n",
        "\n",
        "merged_data = pd.merge(course_activity_data, students_data[['Student_ID', 'Age_Group']], on='Student_ID')\n",
        "\n",
        "engagement_by_age_group = merged_data.groupby('Age_Group')['Time_Spent_Minutes'].mean()\n",
        "print(\"\\nAverage Engagement Time by Age Group:\")\n",
        "print(engagement_by_age_group)"
      ],
      "metadata": {
        "colab": {
          "base_uri": "https://localhost:8080/"
        },
        "id": "6ZEg4BgBxkyF",
        "outputId": "0efea095-fb93-4462-c4b9-10a353594e47"
      },
      "execution_count": 14,
      "outputs": [
        {
          "output_type": "stream",
          "name": "stdout",
          "text": [
            "\n",
            "Average Engagement Time by Age Group:\n",
            "Age_Group\n",
            "<18      107.102041\n",
            "18-25     99.675958\n",
            "26-35     95.362229\n",
            "36-45           NaN\n",
            "46-55           NaN\n",
            "56-65           NaN\n",
            "65+             NaN\n",
            "Name: Time_Spent_Minutes, dtype: float64\n"
          ]
        },
        {
          "output_type": "stream",
          "name": "stderr",
          "text": [
            "<ipython-input-14-c16392e5eb0c>:7: FutureWarning: The default of observed=False is deprecated and will be changed to True in a future version of pandas. Pass observed=False to retain current behavior or observed=True to adopt the future default and silence this warning.\n",
            "  engagement_by_age_group = merged_data.groupby('Age_Group')['Time_Spent_Minutes'].mean()\n"
          ]
        }
      ]
    },
    {
      "cell_type": "code",
      "source": [
        "# Calculate average feedback rating per course\n",
        "average_feedback_rating = feedback_data.groupby('Course_ID')['Rating'].mean()\n",
        "print(\"\\nAverage Feedback Rating per Course:\")\n",
        "print(average_feedback_rating)"
      ],
      "metadata": {
        "colab": {
          "base_uri": "https://localhost:8080/"
        },
        "id": "uZM_ZRg5xssR",
        "outputId": "26c126e2-14a2-4dbc-ba84-04ab40eff33a"
      },
      "execution_count": 13,
      "outputs": [
        {
          "output_type": "stream",
          "name": "stdout",
          "text": [
            "\n",
            "Average Feedback Rating per Course:\n",
            "Course_ID\n",
            "DM101    2.900000\n",
            "PY202    3.277778\n",
            "UX303    2.923077\n",
            "WD404    2.789474\n",
            "Name: Rating, dtype: float64\n"
          ]
        }
      ]
    },
    {
      "cell_type": "code",
      "source": [
        "# Calculate correlation\n",
        "merged_feedback_completion = pd.merge(feedback_data, course_activity_data[['Course_ID', 'Completion_Percentage']], on='Course_ID')\n",
        "\n",
        "correlation = merged_feedback_completion['Completion_Percentage'].corr(merged_feedback_completion['Rating'])\n",
        "print(f\"\\nCorrelation between Completion Rate and Feedback Rating: {correlation:.2f}\")"
      ],
      "metadata": {
        "colab": {
          "base_uri": "https://localhost:8080/"
        },
        "id": "RyJHPdeIxwPy",
        "outputId": "dae5812b-066f-44db-a7b2-da91d60f2e9a"
      },
      "execution_count": 15,
      "outputs": [
        {
          "output_type": "stream",
          "name": "stdout",
          "text": [
            "\n",
            "Correlation between Completion Rate and Feedback Rating: 0.00\n"
          ]
        }
      ]
    },
    {
      "cell_type": "code",
      "source": [
        "#Identify Top 3 Student Segments Based on Engagement and Satisfaction\n",
        "engagement_satisfaction = course_activity_data.merge(feedback_data[['Course_ID', 'Rating']], on='Course_ID')\n",
        "engagement_satisfaction = engagement_satisfaction.merge(students_data[['Student_ID']], on='Student_ID')\n",
        "\n",
        "engagement_summary = engagement_satisfaction.groupby('Student_ID').agg({\n",
        "    'Time_Spent_Minutes': 'mean',\n",
        "    'Rating': 'mean'\n",
        "}).reset_index()\n",
        "\n",
        "engagement_summary['Engagement_Satisfaction_Score'] = engagement_summary['Time_Spent_Minutes'] * engagement_summary['Rating']\n",
        "top_segments = engagement_summary.nlargest(3, 'Engagement_Satisfaction_Score')\n",
        "\n",
        "print(\"\\nTop 3 Student Segments Based on Engagement and Satisfaction:\")\n",
        "print(top_segments[['Student_ID', 'Time_Spent_Minutes', 'Rating', 'Engagement_Satisfaction_Score']])"
      ],
      "metadata": {
        "colab": {
          "base_uri": "https://localhost:8080/"
        },
        "id": "DD_Bo_C0yK2K",
        "outputId": "516df52d-cf82-4ac8-f715-5acdc4b07810"
      },
      "execution_count": 18,
      "outputs": [
        {
          "output_type": "stream",
          "name": "stdout",
          "text": [
            "\n",
            "Top 3 Student Segments Based on Engagement and Satisfaction:\n",
            "   Student_ID  Time_Spent_Minutes    Rating  Engagement_Satisfaction_Score\n",
            "74       S075          153.640000  3.000000                     460.920000\n",
            "41       S042          146.850242  2.946860                     432.747089\n",
            "0        S001          140.508197  3.016393                     423.828003\n"
          ]
        }
      ]
    },
    {
      "cell_type": "code",
      "source": [
        "\n"
      ],
      "metadata": {
        "id": "05BE4Qg-yRny"
      },
      "execution_count": null,
      "outputs": []
    }
  ]
}